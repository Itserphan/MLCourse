{
 "cells": [
  {
   "cell_type": "code",
   "execution_count": 2,
   "id": "321c0858",
   "metadata": {},
   "outputs": [
    {
     "data": {
      "text/plain": [
       "{20: 3392, 30: 4974, 40: 6670, 50: 8319, 60: 9944, 70: 11713}"
      ]
     },
     "execution_count": 2,
     "metadata": {},
     "output_type": "execute_result"
    }
   ],
   "source": [
    "from numpy import random \n",
    "random.seed(0)\n",
    "\n",
    "totals = {20:0, 30:0, 40:0, 50:0, 60:0, 70:0}\n",
    "purchases = {20:0, 30:0, 40:0, 50:0, 60:0, 70:0}\n",
    "totalPurchases = 0\n",
    "for person in range(100000):\n",
    "    age = random.choice([20,30,40,50,60,70])\n",
    "    purchaseProbability = float(age) / 100.0\n",
    "    totals[age] += 1\n",
    "    if random.random() < purchaseProbability:\n",
    "        totalPurchases += 1\n",
    "        purchases[age] += 1\n",
    "\n",
    "\n",
    "totals\n",
    "purchases"
   ]
  },
  {
   "cell_type": "code",
   "execution_count": 3,
   "id": "068045ac",
   "metadata": {},
   "outputs": [
    {
     "data": {
      "text/plain": [
       "0.29929598652145134"
      ]
     },
     "execution_count": 3,
     "metadata": {},
     "output_type": "execute_result"
    }
   ],
   "source": [
    "#P => Probability, E => Purchases, F => People\n",
    "# P(E | F)\n",
    "PEF = float(purchases[30]) / float(totals[30])\n",
    "PEF"
   ]
  },
  {
   "cell_type": "code",
   "execution_count": 6,
   "id": "da4ea09d",
   "metadata": {},
   "outputs": [
    {
     "data": {
      "text/plain": [
       "0.16619"
      ]
     },
     "execution_count": 6,
     "metadata": {},
     "output_type": "execute_result"
    }
   ],
   "source": [
    "PF = float(totals[30]) / 100000.0\n",
    "PF"
   ]
  },
  {
   "cell_type": "code",
   "execution_count": 8,
   "id": "3ad58205",
   "metadata": {},
   "outputs": [
    {
     "data": {
      "text/plain": [
       "0.45012"
      ]
     },
     "execution_count": 8,
     "metadata": {},
     "output_type": "execute_result"
    }
   ],
   "source": [
    "PE = float(totalPurchases) / 100000.0\n",
    "PE"
   ]
  },
  {
   "cell_type": "code",
   "execution_count": 9,
   "id": "d691bb5a",
   "metadata": {},
   "outputs": [
    {
     "name": "stdout",
     "output_type": "stream",
     "text": [
      "Purchases 30: 0.04974\n"
     ]
    }
   ],
   "source": [
    "#P(E | F)\n",
    "print('Purchases 30:', str(float(purchases[30]) / 100000.0))"
   ]
  },
  {
   "cell_type": "code",
   "execution_count": null,
   "id": "9c139145",
   "metadata": {},
   "outputs": [],
   "source": []
  }
 ],
 "metadata": {
  "kernelspec": {
   "display_name": "Python 3 (ipykernel)",
   "language": "python",
   "name": "python3"
  },
  "language_info": {
   "codemirror_mode": {
    "name": "ipython",
    "version": 3
   },
   "file_extension": ".py",
   "mimetype": "text/x-python",
   "name": "python",
   "nbconvert_exporter": "python",
   "pygments_lexer": "ipython3",
   "version": "3.12.1"
  }
 },
 "nbformat": 4,
 "nbformat_minor": 5
}
